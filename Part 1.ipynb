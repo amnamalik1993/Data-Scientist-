{
  "nbformat": 4,
  "nbformat_minor": 0,
  "metadata": {
    "colab": {
      "provenance": [],
      "authorship_tag": "ABX9TyNjihpd6tmu26b3iSP/7v+O",
      "include_colab_link": true
    },
    "kernelspec": {
      "name": "python3",
      "display_name": "Python 3"
    },
    "language_info": {
      "name": "python"
    }
  },
  "cells": [
    {
      "cell_type": "markdown",
      "metadata": {
        "id": "view-in-github",
        "colab_type": "text"
      },
      "source": [
        "<a href=\"https://colab.research.google.com/github/amnamalik1993/Sales-Prediction/blob/main/Untitled0.ipynb\" target=\"_parent\"><img src=\"https://colab.research.google.com/assets/colab-badge.svg\" alt=\"Open In Colab\"/></a>"
      ]
    },
    {
      "cell_type": "markdown",
      "source": [
        "# **Project 1 - Part 1**\n",
        "Amna Shahid Malik\n"
      ],
      "metadata": {
        "id": "IB7OesdyWQAx"
      }
    },
    {
      "cell_type": "code",
      "source": [],
      "metadata": {
        "id": "ZxwkgHPSZyzi"
      },
      "execution_count": null,
      "outputs": []
    },
    {
      "cell_type": "markdown",
      "source": [
        "## **Loading Data**\n"
      ],
      "metadata": {
        "id": "lc32sBFiW5kd"
      }
    },
    {
      "cell_type": "code",
      "source": [],
      "metadata": {
        "id": "kkbEUgeuZz3s"
      },
      "execution_count": null,
      "outputs": []
    },
    {
      "cell_type": "markdown",
      "source": [
        "## **Data Cleaning**"
      ],
      "metadata": {
        "id": "uU6lW7mkW51Y"
      }
    },
    {
      "cell_type": "code",
      "source": [],
      "metadata": {
        "id": "bwo_koCtZ0j0"
      },
      "execution_count": null,
      "outputs": []
    },
    {
      "cell_type": "markdown",
      "source": [
        "## **Exploratory Visuals**"
      ],
      "metadata": {
        "id": "hkeH6jZJW6IV"
      }
    },
    {
      "cell_type": "code",
      "source": [],
      "metadata": {
        "id": "wWEB46wGZ1Sf"
      },
      "execution_count": null,
      "outputs": []
    },
    {
      "cell_type": "markdown",
      "source": [
        "## **Explanatory Visuals**"
      ],
      "metadata": {
        "id": "uO3Zg4r7W6aB"
      }
    },
    {
      "cell_type": "code",
      "source": [],
      "metadata": {
        "id": "wExILh07Z19i"
      },
      "execution_count": null,
      "outputs": []
    }
  ]
}
